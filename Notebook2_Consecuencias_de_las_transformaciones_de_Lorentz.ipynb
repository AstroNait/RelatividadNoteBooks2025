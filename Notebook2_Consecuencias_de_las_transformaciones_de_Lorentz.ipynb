{
  "nbformat": 4,
  "nbformat_minor": 0,
  "metadata": {
    "colab": {
      "provenance": [],
      "authorship_tag": "ABX9TyP5knuomfq4n0qre43T5wmk",
      "include_colab_link": true
    },
    "kernelspec": {
      "name": "python3",
      "display_name": "Python 3"
    },
    "language_info": {
      "name": "python"
    }
  },
  "cells": [
    {
      "cell_type": "markdown",
      "metadata": {
        "id": "view-in-github",
        "colab_type": "text"
      },
      "source": [
        "<a href=\"https://colab.research.google.com/github/AstroNait/RelatividadNoteBooks2025/blob/main/Notebook2_Consecuencias_de_las_transformaciones_de_Lorentz.ipynb\" target=\"_parent\"><img src=\"https://colab.research.google.com/assets/colab-badge.svg\" alt=\"Open In Colab\"/></a>"
      ]
    },
    {
      "cell_type": "markdown",
      "source": [
        "# Notebook 2 de Relatividad y Gravitación\n",
        "\n",
        "Sebastian Yepes Acevedo\n",
        "\n",
        "Cc:1007448816"
      ],
      "metadata": {
        "id": "_Z4IjxHBcYq4"
      }
    },
    {
      "cell_type": "code",
      "source": [
        "#Importaciones\n",
        "import numpy as np\n",
        "import matplotlib.pyplot as plt\n",
        "from matplotlib.animation import FuncAnimation\n",
        "from IPython.display import HTML"
      ],
      "metadata": {
        "id": "LCNmBNE1vCMT"
      },
      "execution_count": 27,
      "outputs": []
    },
    {
      "cell_type": "markdown",
      "source": [
        "# 1.3 Consecuencias de las transformaciones de Lorentz"
      ],
      "metadata": {
        "id": "Zs9R7YRuR_cZ"
      }
    },
    {
      "cell_type": "markdown",
      "source": [
        "# 1.3.1 Dilatación temporal\n",
        "\n",
        "Una de las consecuencias de la relatividad especial es que cualquier observador inercial debe observar que los relojes usados por otro observador inercial correrá mucho más lento. Esto nos indicaría que cualquier observador inercial que se encuentre en movimiento relativo verá el tiempo correr muco más lento.\n",
        "\n",
        "Al tiempo ser una cantidad relativa y no absoluta, ambos observadores a pesar de sus mediciones estarían en lo correcto.Podemos mostrar este efecto sigue las transformaciones de Lorentz, definiremos intervalos de tiempo para relacionar este fenómeno.\n",
        "\n",
        "En vez de utilizar relojes, la vida media de una partícula observada por dos observadores inerciales diferentes O y O'. El observador O usa un sistema de referencia S fijo, donde la partícula se mueve a velocidad constante V en dirección al eje x positivo. El observador O' usará un sistema de referencia S' que se mueve junto con la partícula.\n",
        "\n",
        "Para el observador O', el nacimiento y la desintegración de la partícula ocurre en el mismo lugar por lo cuál podemos escribir la vida media de la partícula como $\\Delta t'=t'_2-t'_1$. En relatividad especial, cuando contamos con un tiempo entre dos eventos medidos en un sistema donde los eventos ocurren en la misma posición se llamará tiempo propio $(\\tau)$.\n",
        "\n",
        "Para el caso del observador O, en el sistema S, el evento 1 ocurre en $(t_1,x_1)$ y el evento 2 en $(t_2,x_2)$. Vemos que para este caso sí hay un cambio espacial al tener el observador en un mismo lugar.\n",
        "\n",
        "Si recordamos la siguiente ecuación de las transformaciones para intervalos $$\\Delta t = \\gamma(V)(\\Delta t'+V\\Delta x'/c^2)$$\n",
        "\n",
        "Podemos entonces relacionar el análisis anterior con esta ecuación como $$\\Delta T = \\gamma(V)\\Delta\\tau$$ donde reemplazamos las observaciones de cada observador. Aquí se nos dice que la partícula que vive más para el sistema que se encuentra en movimiento. Este ejemplo describiría la dilatación del tiempo.\n",
        "\n",
        "Podemos ejemplificar de una manera más clara este fenómeno de la siguiente manera:"
      ],
      "metadata": {
        "id": "59Vfwxd7SNGx"
      }
    },
    {
      "cell_type": "code",
      "source": [
        "from matplotlib.patches import Rectangle\n",
        "\n",
        "# Parámetros\n",
        "L = 1.0\n",
        "v = 0.6\n",
        "c = 1.0\n",
        "gamma = 1 / np.sqrt(1 - v**2)\n",
        "\n",
        "\n",
        "angle = np.arctan(v/c)\n",
        "d_moving = L / np.cos(angle)\n",
        "t_moving_one_way = d_moving / c\n",
        "\n",
        "\n",
        "t_max = 4 * L / c\n",
        "fps = 60\n",
        "frames = int(t_max * fps)\n",
        "\n",
        "\n",
        "fig, ax = plt.subplots(1, 2, figsize=(12, 6))\n",
        "plt.subplots_adjust(bottom=0.15)\n",
        "\n",
        "\n",
        "ax[0].set_title(\"Reloj en reposo\", fontsize=12, fontweight='bold')\n",
        "ax[1].set_title(f\"Reloj en movimiento (v = {v:.2f}c)\", fontsize=12, fontweight='bold')\n",
        "\n",
        "\n",
        "mirror_pos_x = 1.0\n",
        "mirror_width = 1.0\n",
        "\n",
        "\n",
        "ax[0].set_xlim(mirror_pos_x - 1.0, mirror_pos_x + mirror_width + 1.0)\n",
        "ax[0].set_ylim(-0.2, L + 0.5)\n",
        "ax[1].set_xlim(mirror_pos_x - 1.0, mirror_pos_x + mirror_width + v*t_max + 1.0)  # Espacio para el movimiento\n",
        "ax[1].set_ylim(-0.2, L + 0.5)\n",
        "\n",
        "for a in ax:\n",
        "    a.set_aspect('equal')\n",
        "    a.grid(True, linestyle='--', alpha=0.7)\n",
        "    a.set_xlabel(\"x\", fontsize=10)\n",
        "    a.set_ylabel(\"y\", fontsize=10)\n",
        "\n",
        "\n",
        "mirror_bottom_static = Rectangle((mirror_pos_x, 0), mirror_width, 0.05, color='blue', alpha=0.7)\n",
        "mirror_top_static = Rectangle((mirror_pos_x, L-0.05), mirror_width, 0.05, color='blue', alpha=0.7)\n",
        "ax[0].add_patch(mirror_bottom_static)\n",
        "ax[0].add_patch(mirror_top_static)\n",
        "\n",
        "\n",
        "photon_static, = ax[0].plot([], [], 'yo', markersize=8, label='Fotón')\n",
        "path_static, = ax[0].plot([], [], 'y--', alpha=0.5)\n",
        "photon_moving, = ax[1].plot([], [], 'yo', markersize=8)\n",
        "path_moving, = ax[1].plot([], [], 'y--', alpha=0.5)\n",
        "\n",
        "\n",
        "mirror_bottom_moving = Rectangle((0, 0), mirror_width, 0.05, color='red', alpha=0.7)\n",
        "mirror_top_moving = Rectangle((0, 0), mirror_width, 0.05, color='red', alpha=0.7)\n",
        "ax[1].add_patch(mirror_bottom_moving)\n",
        "ax[1].add_patch(mirror_top_moving)\n",
        "\n",
        "\n",
        "time_text_static = ax[0].text(mirror_pos_x, L + 0.3, '', fontsize=11)\n",
        "time_text_moving = ax[1].text(mirror_pos_x, L + 0.3, '', fontsize=11)\n",
        "time_ratio_text = fig.text(0.5, 0.02, '', fontsize=12, ha='center')\n",
        "\n",
        "\n",
        "static_hist_x, static_hist_y = [], []\n",
        "moving_hist_x, moving_hist_y = [], []\n",
        "\n",
        "def init():\n",
        "    photon_static.set_data([], [])\n",
        "    path_static.set_data([], [])\n",
        "    photon_moving.set_data([], [])\n",
        "    path_moving.set_data([], [])\n",
        "    time_text_static.set_text('')\n",
        "    time_text_moving.set_text('')\n",
        "    time_ratio_text.set_text('')\n",
        "    mirror_bottom_moving.set_xy((mirror_pos_x, 0))\n",
        "    mirror_top_moving.set_xy((mirror_pos_x, L-0.05))\n",
        "    return photon_static, path_static, photon_moving, path_moving, time_text_static, time_text_moving, time_ratio_text, mirror_bottom_moving, mirror_top_moving\n",
        "\n",
        "def animate(i):\n",
        "    global static_hist_x, static_hist_y, moving_hist_x, moving_hist_y\n",
        "\n",
        "    t = i / fps\n",
        "\n",
        "\n",
        "    cycle_time_static = 2 * L / c\n",
        "    phase_static = (t % cycle_time_static) / cycle_time_static\n",
        "\n",
        "    if phase_static <= 0.5:\n",
        "        y_static = 2 * L * phase_static\n",
        "    else:\n",
        "        y_static = 2 * L * (1 - phase_static)\n",
        "\n",
        "    x_static = mirror_pos_x + mirror_width/2\n",
        "\n",
        "\n",
        "    static_hist_x.append(x_static)\n",
        "    static_hist_y.append(y_static)\n",
        "    if len(static_hist_x) > 100:\n",
        "        static_hist_x = static_hist_x[-100:]\n",
        "        static_hist_y = static_hist_y[-100:]\n",
        "\n",
        "\n",
        "    x_offset = v * t\n",
        "\n",
        "\n",
        "    mirror_bottom_moving.set_xy((mirror_pos_x + x_offset, 0))\n",
        "    mirror_top_moving.set_xy((mirror_pos_x + x_offset, L-0.05))\n",
        "\n",
        "\n",
        "    t_moving = t / gamma\n",
        "\n",
        "\n",
        "    cycle_time_moving = 2 * t_moving_one_way\n",
        "    phase_moving = (t_moving % cycle_time_moving) / cycle_time_moving\n",
        "\n",
        "    if phase_moving <= 0.5:\n",
        "        progress = 2 * phase_moving\n",
        "        x_moving = mirror_pos_x + mirror_width/2 + x_offset + v * L * progress / c\n",
        "        y_moving = L * progress\n",
        "    else:\n",
        "        progress = 2 * (1 - phase_moving)\n",
        "        x_moving = mirror_pos_x + mirror_width/2 + x_offset + v * L * progress / c\n",
        "        y_moving = L * progress\n",
        "\n",
        "\n",
        "    moving_hist_x.append(x_moving)\n",
        "    moving_hist_y.append(y_moving)\n",
        "    if len(moving_hist_x) > 100:\n",
        "        moving_hist_x = moving_hist_x[-100:]\n",
        "        moving_hist_y = moving_hist_y[-100:]\n",
        "\n",
        "    photon_static.set_data([x_static], [y_static])\n",
        "    path_static.set_data([static_hist_x], [static_hist_y])\n",
        "    photon_moving.set_data([x_moving], [y_moving])\n",
        "    path_moving.set_data([moving_hist_x], [moving_hist_y])\n",
        "\n",
        "    time_text_static.set_text(f\"Tiempo propio: {t:.2f}\")\n",
        "    time_text_moving.set_text(f\"Tiempo propio: {t_moving:.2f}\")\n",
        "    time_ratio_text.set_text(f\"Relación de tiempos: t' = t/γ = t/{gamma:.2f} (dilatación temporal)\")\n",
        "\n",
        "    return photon_static, path_static, photon_moving, path_moving, time_text_static, time_text_moving, time_ratio_text, mirror_bottom_moving, mirror_top_moving\n",
        "\n",
        "\n",
        "ani = FuncAnimation(fig, animate, frames=frames, init_func=init, blit=True, interval=1000/fps)\n",
        "\n",
        "ax[0].text(mirror_pos_x + mirror_width/2, -0.15, \"Trayectoria vertical\", color='black', fontsize=9, ha='center')\n",
        "ax[1].text(mirror_pos_x + 2*mirror_width, -0.15, \"Trayectoria diagonal\", color='black', fontsize=9, ha='center')\n",
        "\n",
        "\n",
        "ax[1].plot([], [], 'r-', linewidth=5, label='Espejos en movimiento')\n",
        "ax[1].plot([], [], 'b-', linewidth=5, label='Posición inicial')\n",
        "ax[1].legend(loc='upper right', fontsize=8)\n",
        "\n",
        "plt.suptitle(\"Dilatación Temporal en Relatividad Especial\", fontsize=14, fontweight='bold')\n",
        "\n",
        "plt.close(fig)\n",
        "\n",
        "ani"
      ],
      "metadata": {
        "colab": {
          "base_uri": "https://localhost:8080/"
        },
        "id": "CYN0uDpgAHst",
        "outputId": "b447ccc0-3d5b-4c04-dfa5-d345c9a255f9"
      },
      "execution_count": 28,
      "outputs": [
        {
          "output_type": "execute_result",
          "data": {
            "text/plain": [
              "<matplotlib.animation.FuncAnimation at 0x7ed92ca33f10>"
            ]
          },
          "metadata": {},
          "execution_count": 28
        }
      ]
    },
    {
      "cell_type": "code",
      "source": [
        "HTML(ani.to_jshtml())"
      ],
      "metadata": {
        "id": "AfFkw90HOKE1"
      },
      "execution_count": null,
      "outputs": []
    },
    {
      "cell_type": "markdown",
      "source": [
        "Aquí observamos un pulso de luz rebotando entre dos espejos, uno en reposo y el otro en movimiento. Con ambos relojes cambiando su segundo cada que el pulso toca el espejo, podemos notar cómo el tiempo se dilata para el caso del espejo en movimiento, cumpliendo con la consecuencia de la que se estaba comentando con anterioridad."
      ],
      "metadata": {
        "id": "RDhOz6yLZ6SK"
      }
    },
    {
      "cell_type": "markdown",
      "source": [
        "# 1.3.2 Contracción de longitud\n",
        "\n",
        "Otro efecto relativista curioso que se puede resaltar es la longitud de un objeto observado en diferentes sistemas de referencia.\n",
        "\n",
        "Consideremos una vara. En cualquier sistema inercial la longitud de la vara es la distancia entre sus bordes en un tiempo específico.\n",
        "\n",
        "Consideremos ahora dos eventos que están sucediendo en los bordes de la vara en el mismo tiempo $t$. Ahora tomando el sistema inercial S, donde la vara está orientada a lo largo del eje x y se mueve a lo largo del eje a velocidad constante V, longitud L de la vara se relaciona a los dos eventos. Si el evento 1 sucede en $(t,x_1)$ y el evento 2 en $(t,x_2)$, por lo tanto la longitud de la vara está dada por $L=\\Delta x$.\n",
        "\n",
        "Ahora consideremos que los mismos dos eventos se observan en un sistema intercial S' donde la vara se orienta en a lo largo del eje $x'$ pero está en reposo.  \n",
        "En esta ocasión no es necesario suponer que los eventos 1 y 2 ocurren al mismo tiempo, por lo cual se pueden describir que suceden en $(x'_1,t'_1)$ y $(x'_2,t'_2)$. Espacialmente, los bordes de la vara siempre estarán en los mismos puntos, pero podemos decir que la longitud de la vara se encuentra en su propio sistema de reposo.\n",
        "\n",
        "Incluímos así la longitud propia $(L_p)$, la cuál estará dada por $L_p = \\Delta x'$\n",
        "\n",
        "Ahora, usando otra de las ecuaciones para intervalos, podremos relacionar estas cantidades:\n",
        "\n",
        "$$\\Delta x = \\gamma(V)(\\Delta x'+V\\Delta t')$$\n",
        "\n",
        "Al reemplazar, obtenemos que $L=L_p/\\gamma(V)$. Describiendo que la vara se observará más corta desde el sistema en reposo en comparación con el sistema en movimiento.\n",
        "\n",
        "Observemos un pequeño ejemplo, donde veremos un tren que al viajar cerca de velocidades relativistas, comienza a contraerse."
      ],
      "metadata": {
        "id": "Tw8ZyoUOq_OK"
      }
    },
    {
      "cell_type": "code",
      "source": [
        "import numpy as np\n",
        "import matplotlib.pyplot as plt\n",
        "from matplotlib.animation import FuncAnimation\n",
        "from matplotlib.patches import Rectangle\n",
        "\n",
        "# Constantes\n",
        "c = 3e8\n",
        "L0 = 10.0\n",
        "\n",
        "\n",
        "velocidades = np.linspace(0.01 * c, 0.99 * c, 100)\n",
        "\n",
        "fig, ax = plt.subplots(figsize=(10, 4))\n",
        "ax.set_xlim(0, L0 + 5)\n",
        "ax.set_ylim(0, 5)\n",
        "ax.axis('off')\n",
        "\n",
        "\n",
        "def crear_tren(x0, x1, y0, y1):\n",
        "\n",
        "    cuerpo = Rectangle((x0, y0), x1-x0, y1-y0, facecolor='blue', edgecolor='black')\n",
        "    ax.add_patch(cuerpo)\n",
        "\n",
        "\n",
        "    radio_rueda = 0.3\n",
        "    espaciado = (x1 - x0) / 5\n",
        "    for i in range(1, 5):\n",
        "        rueda = plt.Circle((x0 + i * espaciado, y0), radio_rueda, color='black')\n",
        "        ax.add_patch(rueda)\n",
        "\n",
        "    return [cuerpo]\n",
        "\n",
        "\n",
        "tren_objetos = crear_tren(0, L0, 1, 4)\n",
        "\n",
        "# Textos\n",
        "texto_vel = ax.text(0.02, 4.5, '', fontsize=12)\n",
        "texto_len = ax.text(0.02, 4.2, '', fontsize=12)\n",
        "\n",
        "# Función de actualización\n",
        "def actualizar(frame):\n",
        "    v = velocidades[frame]\n",
        "    L = L0 * np.sqrt(1 - (v**2 / c**2))  # longitud contraída\n",
        "\n",
        "\n",
        "    for patch in ax.patches:\n",
        "        patch.remove()\n",
        "\n",
        "\n",
        "    centro = (L0 + 5) / 2\n",
        "    x0 = centro - L / 2\n",
        "    x1 = centro + L / 2\n",
        "\n",
        "\n",
        "    tren_objetos = crear_tren(x0, x1, 1, 4)\n",
        "\n",
        "    texto_vel.set_text(f\"Velocidad: {v/c:.2f} c\")\n",
        "    texto_len.set_text(f\"Longitud observada: {L:.2f} m\")\n",
        "\n",
        "    return tren_objetos + [texto_vel, texto_len]\n",
        "\n",
        "\n",
        "anim = FuncAnimation(fig, actualizar, frames=len(velocidades), interval=100, blit=True)\n",
        "\n",
        "plt.close(fig)"
      ],
      "metadata": {
        "id": "Cd7kKEWBYaRP"
      },
      "execution_count": null,
      "outputs": []
    },
    {
      "cell_type": "code",
      "source": [
        "HTML(anim.to_jshtml())"
      ],
      "metadata": {
        "id": "r09Vun7vYlrv"
      },
      "execution_count": null,
      "outputs": []
    },
    {
      "cell_type": "markdown",
      "source": [
        "# 1.3.3 La relatividad de la simultaneidad\n",
        "\n",
        "\n"
      ],
      "metadata": {
        "id": "yBxn35kH7Xdr"
      }
    },
    {
      "cell_type": "markdown",
      "source": [
        "Partiendo del ejemplo anterior, notamos que dos eventos pueden ocurrir al mismo tiempo en un sistema, sin que necesariamente pase lo mismo en el otro sistema.\n",
        "\n",
        "Dos eventos que ocurren al mismo tiempo en algún sistema se les denomina simultaneos.\n",
        "\n",
        "A pesar de esto, aunque los eventos sucedan al mismo tiempo como en el caso del ejemplo para la varilla, los eventos se encuentran separados por una distancia $L$. Por lo tanto, para el sistema que se encuentra en movimiento, el tiempo en que suceden los eventos sería: $$\\Delta t'=-\\gamma(V)VL/c^2$$"
      ],
      "metadata": {
        "id": "lkHHWjR_7hRY"
      }
    },
    {
      "cell_type": "code",
      "source": [
        "import numpy as np\n",
        "import matplotlib.pyplot as plt\n",
        "from matplotlib.animation import FuncAnimation\n",
        "\n",
        "# Parámetros del sistema\n",
        "source_A = np.array([-5, 0])\n",
        "source_B = np.array([5, 0])\n",
        "c = 1  # velocidad de la luz (radio crece a esta velocidad)\n",
        "v = 0.5  # velocidad del observador en movimiento\n",
        "total_time = 20\n",
        "dt = 0.1\n",
        "frames = int(total_time / dt)\n",
        "\n",
        "\n",
        "fig, ax = plt.subplots()\n",
        "ax.set_aspect('equal')\n",
        "ax.set_xlim(-15, 15)\n",
        "ax.set_ylim(-10, 10)\n",
        "ax.set_title('Relatividad de la Simultaneidad')\n",
        "\n",
        "\n",
        "ax.plot(*source_A, 'ro', label='Fuente A')\n",
        "ax.plot(*source_B, 'bo', label='Fuente B')\n",
        "ax.legend()\n",
        "\n",
        "circle_A = plt.Circle(source_A, 0, color='r', fill=False, lw=2)\n",
        "circle_B = plt.Circle(source_B, 0, color='b', fill=False, lw=2)\n",
        "observer_rest = ax.plot(0, 0, 'go')[0]\n",
        "observer_moving = ax.plot([], [], 'ko')[0]\n",
        "\n",
        "ax.add_patch(circle_A)\n",
        "ax.add_patch(circle_B)\n",
        "\n",
        "\n",
        "def update(frame):\n",
        "    t = frame * dt\n",
        "    r = c * t\n",
        "    circle_A.set_radius(r)\n",
        "    circle_B.set_radius(r)\n",
        "\n",
        "\n",
        "    observer_rest.set_data([0], [0])\n",
        "\n",
        "\n",
        "    x_moving = v * t\n",
        "    observer_moving.set_data([x_moving], [0])\n",
        "\n",
        "    return circle_A, circle_B, observer_rest, observer_moving\n",
        "\n",
        "ani = FuncAnimation(fig, update, frames=frames, interval=50, blit=True)\n",
        "plt.close(fig)\n",
        "ani"
      ],
      "metadata": {
        "colab": {
          "base_uri": "https://localhost:8080/"
        },
        "id": "yu0f32syLJ-f",
        "outputId": "ecfb10bc-fd88-4f68-ac61-8aee5234c4c1"
      },
      "execution_count": 30,
      "outputs": [
        {
          "output_type": "execute_result",
          "data": {
            "text/plain": [
              "<matplotlib.animation.FuncAnimation at 0x7ed92c583c90>"
            ]
          },
          "metadata": {},
          "execution_count": 30
        }
      ]
    },
    {
      "cell_type": "code",
      "source": [
        "HTML(ani.to_jshtml())"
      ],
      "metadata": {
        "id": "gsAe054oTdng"
      },
      "execution_count": null,
      "outputs": []
    },
    {
      "cell_type": "markdown",
      "source": [
        "Podemos observar en la animación, dos pulsos simultanos de dos fuentes A y B. Además contamos con dos puntos de color verde y negro, los cuales representan dos observadores, uno en reposo y otro en movimiento.\n",
        "Aquí podemos observar cómo a pesar de que para el observador en reposo, estos dos eventos son vistos sucediendo al mismo tiempo, para el observador en movimiento el evento B, sucede primero que el evento A."
      ],
      "metadata": {
        "id": "cPd-PfXfUnQu"
      }
    },
    {
      "cell_type": "markdown",
      "source": [
        "# 1.3.3 El efecto Doppler\n",
        "\n",
        "Normalmente en astronomía, el efecto Doppler se utiliza para determinar la aproximación o recesión de estrellas distantes. Esto se realiza midiendo las longitudes de onda recibidas de lineas en el espectro de una estrella y comparando sus resultados con la longitud de onda de estas lineas conocidas previamente en el laboratorio y representa la longitud de onda que se emitiría en la estrella.\n",
        "\n",
        "Una de las consecuencias de la relatividad especial fue reconocer que la formula tradicional estaba erronea. Podemos corregir la formula teniendo en cuenta la dilatación temporal y los sistemas de referencia inerciales. Obteniendo la ecuación:\n",
        "\n",
        "$$\\frac{1}{f_{rec}}=\\frac{1}{f_{em}}\\frac{1}{\\sqrt{(1-V/c)(1-V/c)}}\\left(1+\\frac{V}{c}\\right)$$\n",
        "\n",
        "$$f_{rec}=f_{em}\\sqrt{\\frac{c-V}{c+V}}$$\n",
        "\n",
        "Veamos cómo se podría ver el efecto doppler con un ejemplo simple:\n",
        "\n"
      ],
      "metadata": {
        "id": "AQgNjZoDMBge"
      }
    },
    {
      "cell_type": "code",
      "source": [
        "from matplotlib.colors import rgb2hex, LinearSegmentedColormap\n",
        "from matplotlib.patches import Rectangle\n",
        "\n",
        "# Constantes\n",
        "c = 3e8  # velocidad de la luz (m/s)\n",
        "f_emitido = 5.5e14  # frecuencia emitida en Hz (verde-amarillo en reposo)\n",
        "\n",
        "# Espectro visible aproximado\n",
        "longitudes_onda = {\n",
        "    \"violeta\": 380e-9,  # 380 nm\n",
        "    \"azul\": 450e-9,     # 450 nm\n",
        "    \"verde\": 520e-9,    # 520 nm\n",
        "    \"amarillo\": 570e-9, # 570 nm\n",
        "    \"naranja\": 590e-9,  # 590 nm\n",
        "    \"rojo\": 650e-9      # 650 nm\n",
        "}\n",
        "\n",
        "\n",
        "def lambda_a_frecuencia(longitud):\n",
        "    return c / longitud\n",
        "\n",
        "# Frecuencias correspondientes (Hz)\n",
        "frecuencias = {color: lambda_a_frecuencia(long) for color, long in longitudes_onda.items()}\n",
        "\n",
        "# Función para convertir frecuencia a color usando un espectro completo\n",
        "def FrecuenciaColor(f_obs):\n",
        "\n",
        "    lambda_obs = c / f_obs\n",
        "\n",
        "\n",
        "    lambda_min = 380e-9  # violeta\n",
        "    lambda_max = 750e-9  # rojo\n",
        "\n",
        "\n",
        "    if lambda_obs < lambda_min:\n",
        "        return (0.5, 0, 1)  # Ultravioleta (púrpura)\n",
        "    elif lambda_obs > lambda_max:\n",
        "        return (0.7, 0, 0)  # Infrarrojo (rojo oscuro)\n",
        "\n",
        "\n",
        "    pos = (lambda_obs - lambda_min) / (lambda_max - lambda_min)\n",
        "\n",
        "    # Mapeamos la posición a un color en el espectro\n",
        "    if pos < 0.1:  # Violeta\n",
        "        r, g, b = 0.5, 0, 1\n",
        "    elif pos < 0.2:  # Azul\n",
        "        r, g, b = 0, 0, 1\n",
        "    elif pos < 0.4:  # Azul-Verde-Cian\n",
        "        r, g, b = 0, (pos-0.2)/0.2, 1\n",
        "    elif pos < 0.5:  # Verde\n",
        "        r, g, b = 0, 1, 0\n",
        "    elif pos < 0.6:  # Amarillo\n",
        "        r, g, b = (pos-0.5)/0.1, 1, 0\n",
        "    elif pos < 0.7:  # Naranja\n",
        "        r, g, b = 1, (0.7-pos)/0.1, 0\n",
        "    else:  # Rojo\n",
        "        r, g, b = 1, 0, 0\n",
        "\n",
        "    return (r, g, b)\n",
        "\n",
        "frames = 200\n",
        "x_vals = np.linspace(-1, 1, frames)\n",
        "vel_max = 0.9 * c\n",
        "\n",
        "\n",
        "fig, (ax1, ax2) = plt.subplots(2, 1, figsize=(10, 8), gridspec_kw={'height_ratios': [3, 1]})\n",
        "fig.subplots_adjust(hspace=0.3)\n",
        "\n",
        "source = plt.Circle((0, 0), 0.1, color='yellow')\n",
        "ax1.add_patch(source)\n",
        "\n",
        "\n",
        "ax1.axvline(x=0, color='gray', linestyle='--', alpha=0.5)\n",
        "\n",
        "\n",
        "ax1.plot(0, 0, 'ko', markersize=10, label='Observador')\n",
        "ax1.set_xlim(-1.2, 1.2)\n",
        "ax1.set_ylim(-0.5, 0.5)\n",
        "ax1.set_aspect('equal')\n",
        "ax1.set_title('Efecto Doppler Relativista')\n",
        "ax1.legend(loc='upper right')\n",
        "\n",
        "\n",
        "info_text = ax1.text(-1.1, 0.5, \"\", fontsize=9)\n",
        "color_label = ax1.text(0.5, 0.4, \"\", fontsize=10, fontweight='bold')\n",
        "\n",
        "\n",
        "ax2.set_title('Espectro de frecuencia')\n",
        "ax2.set_xlim(3.5e14, 8e14)\n",
        "ax2.set_ylim(0, 1)\n",
        "ax2.set_xlabel('Frecuencia (Hz)')\n",
        "ax2.get_yaxis().set_visible(False)\n",
        "\n",
        "\n",
        "x_spec = np.linspace(3.5e14, 8e14, 1000)\n",
        "y_spec = np.ones_like(x_spec) * 0.5\n",
        "points = np.array([x_spec, y_spec]).T.reshape(-1, 1, 2)\n",
        "segments = np.concatenate([points[:-1], points[1:]], axis=1)\n",
        "colors = [FrecuenciaColor(f) for f in x_spec]\n",
        "lc = plt.matplotlib.collections.LineCollection(segments, colors=colors, linewidth=20)\n",
        "ax2.add_collection(lc)\n",
        "\n",
        "for color, freq in frecuencias.items():\n",
        "    ax2.axvline(x=freq, color='black', linestyle=':', alpha=0.5)\n",
        "    ax2.text(freq, 0.8, color.capitalize(),\n",
        "             horizontalalignment='center', fontsize=8)\n",
        "\n",
        "\n",
        "emit_line = ax2.axvline(x = f_emitido, color = 'black', linestyle = '-', linewidth = 2, label = 'Emitida')\n",
        "\n",
        "obs_line = ax2.axvline(x = f_emitido, color = 'red', linestyle = '-', linewidth = 2, label = 'Observada')\n",
        "ax2.legend(loc='upper right')\n",
        "\n",
        "\n",
        "def init():\n",
        "    source.center = (-1, 0)\n",
        "    emit_line.set_xdata([f_emitido])\n",
        "    obs_line.set_xdata([f_emitido])\n",
        "    return source, info_text, color_label, emit_line, obs_line\n",
        "\n",
        "\n",
        "def update(frame):\n",
        "\n",
        "    if frame < frames // 2:\n",
        "        x = x_vals[frame]\n",
        "    else:\n",
        "        x = x_vals[frames - frame - 1]\n",
        "\n",
        "\n",
        "    direction = 1 if x > 0 else -1\n",
        "    v = direction * vel_max * abs(x)\n",
        "    beta = v / c\n",
        "\n",
        "\n",
        "    gamma = 1 / np.sqrt(1 - beta**2)\n",
        "    f_obs = f_emitido * gamma * (1 - beta)\n",
        "\n",
        "\n",
        "    source.center = (x, 0)\n",
        "    color = FrecuenciaColor(f_obs)\n",
        "    source.set_facecolor(color)\n",
        "\n",
        "\n",
        "    obs_line.set_xdata([f_obs])\n",
        "\n",
        "\n",
        "    if beta > 0:\n",
        "        estado = \"alejándose\"\n",
        "        corrimiento = \"AL ROJO\"\n",
        "    else:\n",
        "        estado = \"acercándose\"\n",
        "        corrimiento = \"AL AZUL\"\n",
        "\n",
        "\n",
        "    lambda_emit = (c / f_emitido) * 1e9\n",
        "    lambda_obs = (c / f_obs) * 1e9\n",
        "\n",
        "    info_text.set_text(f\"Velocidad: {v/c:.2f}c ({estado})\\n\"\n",
        "                      f\"λ emitida: {lambda_emit:.1f} nm\\n\"\n",
        "                      f\"λ observada: {lambda_obs:.1f} nm\")\n",
        "\n",
        "    color_label.set_text(f\"CORRIMIENTO {corrimiento}\")\n",
        "    color_label.set_color(rgb2hex(color))\n",
        "\n",
        "    return source, info_text, color_label, emit_line, obs_line\n",
        "\n",
        "\n",
        "ani = animation.FuncAnimation(fig, update, frames=frames,\n",
        "                            init_func=init, blit=True, interval=50)\n",
        "\n",
        "plt.close()\n",
        "ani"
      ],
      "metadata": {
        "colab": {
          "base_uri": "https://localhost:8080/"
        },
        "id": "e8lXUESV_FFN",
        "outputId": "b2c2b312-d23d-4f0d-b67c-e496beb55381"
      },
      "execution_count": 31,
      "outputs": [
        {
          "output_type": "execute_result",
          "data": {
            "text/plain": [
              "<matplotlib.animation.FuncAnimation at 0x7ed92c609510>"
            ]
          },
          "metadata": {},
          "execution_count": 31
        }
      ]
    },
    {
      "cell_type": "code",
      "source": [
        "HTML(ani.to_jshtml())"
      ],
      "metadata": {
        "id": "GJhGulE4GlcW"
      },
      "execution_count": null,
      "outputs": []
    },
    {
      "cell_type": "markdown",
      "source": [
        "En la animación anterior podemos observar, cómo una partícula cambia de color a medida que se acerca al observador, permitiendo dar una idea de lo que estaría sucediendo debido a este fenómeno."
      ],
      "metadata": {
        "id": "sTFP69iWLLq0"
      }
    },
    {
      "cell_type": "markdown",
      "source": [
        "# 1.3.5 Transformación de velocidad\n",
        "\n",
        "Suponga que un objeto se observa moviendose a una velocidad $v=(v_x,v_y,v_z)$ en un sistema inercial. Calculemos cómo sería la velocidad para el sistema S'.\n",
        "\n",
        "Dividimos las ecuaciones para el tiempo $t'$ y $x'$.\n",
        "\n",
        "$$\\frac{\\Delta x'}{\\Delta t'}=\\frac{\\gamma(V)(\\Delta x-V\\Delta t)}{\\gamma(V)(\\Delta t- V\\Delta x/c^2)}$$\n",
        "\n",
        "Si dividimos en la parte derecha por $\\Delta t$, tendremos:\n",
        "\n",
        "$$\\frac{\\Delta x'}{\\Delta t'}=\\frac{(\\Delta x/\\Delta t - V)}{(1 - (\\Delta x/\\Delta t) V/c^2)}$$\n",
        "\n",
        "Ahora bien, escribamos estas transformaciones para cada componente de la velocidad:\n",
        "\n",
        "* $v_x'=\\frac{v_x-V}{1-v_x V/c^2}$\n",
        "\n",
        "*  $ v_y'=\\frac{v_y}{\\gamma(V)(1-v_x/c^2)}$\n",
        "\n",
        "* $v_z'=\\frac{v_z}{\\gamma(V)(1-v_x/c^2)}$\n"
      ],
      "metadata": {
        "id": "BnC25FGp__ex"
      }
    }
  ]
}