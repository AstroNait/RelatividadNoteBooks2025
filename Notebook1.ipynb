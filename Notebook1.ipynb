{
  "nbformat": 4,
  "nbformat_minor": 0,
  "metadata": {
    "colab": {
      "provenance": [],
      "include_colab_link": true
    },
    "kernelspec": {
      "name": "python3",
      "display_name": "Python 3"
    },
    "language_info": {
      "name": "python"
    }
  },
  "cells": [
    {
      "cell_type": "markdown",
      "metadata": {
        "id": "view-in-github",
        "colab_type": "text"
      },
      "source": [
        "<a href=\"https://colab.research.google.com/github/AstroNait/RelatividadNoteBooks2025/blob/main/Notebook1.ipynb\" target=\"_parent\"><img src=\"https://colab.research.google.com/assets/colab-badge.svg\" alt=\"Open In Colab\"/></a>"
      ]
    },
    {
      "cell_type": "markdown",
      "source": [
        "# Introducción"
      ],
      "metadata": {
        "id": "WL5w9n-1Ni04"
      }
    },
    {
      "cell_type": "markdown",
      "source": [
        "En la escala cósmica, la gravitación domina el universo. A pesar de que la fuerza nucleat y electromagnética dan paso al brillo de las estrellas, la gravitación es la que da forma al universo y determina la geometría espacio temporal a larga escala para las galaxias.\n",
        "\n",
        "A lo largo de la historia de la humanidad, la explicación para la gravitación se ha basado en las ideas de diferentes figuras históricas, tales como Aristóteles, Newton y finalmente la que nos lleva al contenido de este texto, Einstein.\n",
        "\n",
        "La historia de la gravitación de Einstein comenzaría con un error. en 1905 realzaría una publicación, donde se mostraba una inconsistencia en la idea Newtoniana acerca de la gravitación, la cuál se mostraría diez años después con la publicación de la teoría general de la relatividad, trayendo ideas acerca de la geometría en los fenomenos gravitacionales y con conceptos como los agujeros negros o las ondas gravitacionales.\n",
        "\n",
        "\n"
      ],
      "metadata": {
        "id": "hNxjsl3HT5uT"
      }
    },
    {
      "cell_type": "markdown",
      "source": [
        "# Capitulo 1: Relatividad especial y espacio tiempo"
      ],
      "metadata": {
        "id": "4osSDAiGbvys"
      }
    },
    {
      "cell_type": "markdown",
      "source": [
        "# Introducción:\n",
        "\n",
        "James Clerk Maxwell, escribe la teoría unificada de la electricidad y el magnetismo, allí se puede encontrar uno de los resultados más profundos, el cuál predice que las excitaciones ondulatorias de la combinación entre campos eléctrico y magnético viajan a través del vacío a la misma velocidad que la luz.\n",
        "\n",
        "El trabajo de Maxwell abrió una manera de entender el universo de una manera más profunda. La teoría de Maxwell predice que la luz viaja con la misma velocidad a cualquier dirección, asumiendo que se partía en reposo respecto al eter. En principio debido al eter, se esperaba que la luz viajara a diferentes velocidades dependiendo de su dirección en la Tierra, sin embargo el resultado era lo contrario lo cuál llevaría a Michelson y Morley en 1887 a sospechar que la velocidad de la luz en el vacio siempre sería el mismo sin depender del movimientos en el instrumento de medición.\n",
        "\n",
        "Diferentes científicos buscaron resolver el problema que planteaba la teoría propuesta por Maxwell, sin embargo en 1905, Einstein fue el primero en proponer una solución decente para este problema y daría paso a lo que sería la relatividad especial.\n",
        "\n",
        "\n"
      ],
      "metadata": {
        "id": "pfPTHmm_b98Q"
      }
    },
    {
      "cell_type": "markdown",
      "source": [
        "# 1.1 Conceptos basicos de relatividad especial\n"
      ],
      "metadata": {
        "id": "ITeUmInDe8Xy"
      }
    },
    {
      "cell_type": "markdown",
      "source": [
        "#1.1.1 Eventos, marcos de referencia y observadores\n",
        "\n",
        "Cuando tratamos con la relatividad especial, es importante manejar un lenguaje claro para evitar errores, definamos algunos conceptos importantes para este tema.\n",
        "\n",
        "**Evento**\n",
        "\"Un evento es una ocurrencia instantanea en un punto especifico en el espacio\"\n",
        "\n",
        "Un fuego pirotecnico al explotar o una pequeña luz que titila una vez son aproximaciones de eventos.\n",
        "\n",
        "Para saber cuándo y donde sucede un evento, necesitamos asignar coordenadas. Una coordenada de tiempo $t$ y un conjunto ordenado para las coordenadas espaciales, como lo puedes ser las cartesianas $(x,y,z)$ o las esféricas $(r,\\theta, \\phi)$\n",
        "\n",
        "**Marco de referencia**\n",
        "\"Un marco de referencia es un sistema para asignar coordenadas a eventos. esto consiste en un sistema de relojes sincronizados que permiten un valor único en el tiempo para ser asignado a cualquier evento y sistema de coordenadas espaciales que premita una unica posición para ser asignada a cualquier evento.\"\n",
        "\n",
        "Entre los marcos de referencia que podemos imaginar, hay una clase en particularmente importante para la relatividad especial. Esta clase son los marcos de referencia incerciales. Un marco de referencia inercial es aquel donde el cuerpo no está sujeto a cualquier fuerza neta manteniendo una velocidad constante. Podemos definirlo también de la siguiente manera.\n",
        "\n",
        "**Marcos de referencia inercial**\n",
        "\"Un marco de referencia inercial es un marco de referencia en el cual la primera ley de movimiento de Newton se cumple\"\n",
        "\n",
        "Otro concepto para el vocabulario básico de la relatividad especial es la idea del observador.\n",
        "\n",
        "**Observador**\n",
        "\"Un observador es un individuo dedicado a usar un marco de referencia en partícular para registrar eventos.\"\n",
        "\n",
        "El termino especial hace referencia a restringido o limitado, debido a que nos basamos en sistemas inerciales para realiazar observaciones por observadores inerciales.\n"
      ],
      "metadata": {
        "id": "zI9U6aIAfSc6"
      }
    },
    {
      "cell_type": "markdown",
      "source": [
        "# 1.1.2 Los postulados de la relatividad especial\n",
        "\n",
        "**Primer postulado de la relatividad especial**\n",
        "\"Las leyes de la fisica pueden ser escritas de la misma manera en todo marco inercial\"\n",
        "\n",
        "**Segundo postulado de la relatividad especial**\n",
        "\"La velocidad de la luz en el vacio tiene el mismo valor constante $c=3\\times 10^8ms^{-1}$, en todo marco inercial\""
      ],
      "metadata": {
        "id": "VeGijtAOtzPh"
      }
    },
    {
      "cell_type": "markdown",
      "source": [
        "# 1.2 Transformación de coordenadas\n",
        "\n",
        "La relatividad especial trabaja a partir de dos obsevadores inerciales, en movimiento relativamente uniforme y sus observaciones fundamentales serán el tiempo y el espacio coordenado de los eventos.\n",
        "\n",
        "Consideraremos dos observadores inerciales $O$ y $O'$, los cuales tendrán sus respectivos marcos de referencia $S$ y $S'$ con las siguientes configuraciones:\n",
        "\n",
        "\n",
        "*   El origen de $S'$ se mueve a lo largo del eje $x$ del marco $S$ en dirección de donde aumentan los valores de $x$ con velocidad constante $V$\n",
        "*   Los ejes $x,y,z$ del marco $S$ son siempre paralaelos los ejes correspondientes del sistema $S'$\n",
        "*   El evento donde el origen de ambos marcos coincide es en el tiempo $t=0$ y $t'=0$\n",
        "\n",
        "\n",
        "\n"
      ],
      "metadata": {
        "id": "6cYCjbvBGN5W"
      }
    },
    {
      "cell_type": "code",
      "execution_count": null,
      "metadata": {
        "id": "0zZEdROiNUj0"
      },
      "outputs": [],
      "source": []
    }
  ]
}