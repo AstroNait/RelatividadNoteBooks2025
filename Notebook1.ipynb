{
  "nbformat": 4,
  "nbformat_minor": 0,
  "metadata": {
    "colab": {
      "provenance": [],
      "include_colab_link": true
    },
    "kernelspec": {
      "name": "python3",
      "display_name": "Python 3"
    },
    "language_info": {
      "name": "python"
    }
  },
  "cells": [
    {
      "cell_type": "markdown",
      "metadata": {
        "id": "view-in-github",
        "colab_type": "text"
      },
      "source": [
        "<a href=\"https://colab.research.google.com/github/AstroNait/RelatividadNoteBooks2025/blob/main/Notebook1.ipynb\" target=\"_parent\"><img src=\"https://colab.research.google.com/assets/colab-badge.svg\" alt=\"Open In Colab\"/></a>"
      ]
    },
    {
      "cell_type": "markdown",
      "source": [
        "# Introducción"
      ],
      "metadata": {
        "id": "WL5w9n-1Ni04"
      }
    },
    {
      "cell_type": "markdown",
      "source": [
        "En la escala cósmica, la gravitación domina el universo. A pesar de que la fuerza nucleat y electromagnética dan paso al brillo de las estrellas, la gravitación es la que da forma al universo y determina la geometría espacio temporal a larga escala para las galaxias.\n",
        "\n",
        "A lo largo de la historia de la humanidad, la explicación para la gravitación se ha basado en las ideas de diferentes figuras históricas, tales como Aristóteles, Newton y finalmente la que nos lleva al contenido de este texto, Einstein.\n",
        "\n",
        "La historia de la gravitación de Einstein comenzaría con un error. en 1905 realzaría una publicación, donde se mostraba una inconsistencia en la idea Newtoniana acerca de la gravitación, la cuál se mostraría diez años después con la publicación de la teoría general de la relatividad, trayendo ideas acerca de la geometría en los fenomenos gravitacionales y con conceptos como los agujeros negros o las ondas gravitacionales.\n",
        "\n",
        "\n"
      ],
      "metadata": {
        "id": "hNxjsl3HT5uT"
      }
    },
    {
      "cell_type": "markdown",
      "source": [
        "# Capitulo 1: Relatividad especial y espacio tiempo"
      ],
      "metadata": {
        "id": "4osSDAiGbvys"
      }
    },
    {
      "cell_type": "markdown",
      "source": [
        "# Introducción:\n",
        "\n",
        "James Clerk Maxwell, escribe la teoría unificada de la electricidad y el magnetismo, allí se puede encontrar uno de los resultados más profundos, el cuál predice que las excitaciones ondulatorias de la combinación entre campos eléctrico y magnético viajan a través del vacío a la misma velocidad que la luz.\n",
        "\n",
        "El trabajo de Maxwell abrió una manera de entender el universo de una manera más profunda. La teoría de Maxwell predice que la luz viaja con la misma velocidad a cualquier dirección, asumiendo que se partía en reposo respecto al eter. En principio debido al eter, se esperaba que la luz viajara a diferentes velocidades dependiendo de su dirección en la Tierra, sin embargo el resultado era lo contrario lo cuál llevaría a Michelson y Morley en 1887 a sospechar que la velocidad de la luz en el vacio siempre sería el mismo sin depender del movimientos en el instrumento de medición.\n",
        "\n",
        "Diferentes científicos buscaron resolver el problema que planteaba la teoría propuesta por Maxwell, sin embargo en 1905, Einstein fue el primero en proponer una solución decente para este problema y daría paso a lo que sería la relatividad especial.\n",
        "\n",
        "\n"
      ],
      "metadata": {
        "id": "pfPTHmm_b98Q"
      }
    },
    {
      "cell_type": "markdown",
      "source": [
        "# 1.1 Conceptos basicos de relatividad especial\n"
      ],
      "metadata": {
        "id": "ITeUmInDe8Xy"
      }
    },
    {
      "cell_type": "markdown",
      "source": [
        "#1.1.1 Eventos, marcos de referencia y observadores\n",
        "\n",
        "Cuando tratamos con la relatividad especial, es importante manejar un lenguaje claro para evitar errores, definamos algunos conceptos importantes para este tema.\n",
        "\n",
        "**Evento**\n",
        "\"Un evento es una ocurrencia instantanea en un punto especifico en el espacio\"\n",
        "\n",
        "Un fuego pirotecnico al explotar o una pequeña luz que titila una vez son aproximaciones de eventos.\n",
        "\n",
        "Para saber cuándo y donde sucede un evento, necesitamos asignar coordenadas. Una coordenada de tiempo $t$ y un conjunto ordenado para las coordenadas espaciales, como lo puedes ser las cartesianas $(x,y,z)$ o las esféricas $(r,\\theta, \\phi)$\n",
        "\n",
        "**Marco de referencia**\n",
        "\"Un marco de referencia es un sistema para asignar coordenadas a eventos. esto consiste en un sistema de relojes sincronizados que permiten un valor único en el tiempo para ser asignado a cualquier evento y sistema de coordenadas espaciales que premita una unica posición para ser asignada a cualquier evento.\"\n",
        "\n",
        "Entre los marcos de referencia que podemos imaginar, hay una clase en particularmente importante para la relatividad especial. Esta clase son los marcos de referencia incerciales. Un marco de referencia inercial es aquel donde el cuerpo no está sujeto a cualquier fuerza neta manteniendo una velocidad constante. Podemos definirlo también de la siguiente manera.\n",
        "\n",
        "**Marcos de referencia inercial**\n",
        "\"Un marco de referencia inercial es un marco de referencia en el cual la primera ley de movimiento de Newton se cumple\"\n",
        "\n",
        "Otro concepto para el vocabulario básico de la relatividad especial es la idea del observador.\n",
        "\n",
        "**Observador**\n",
        "\"Un observador es un individuo dedicado a usar un marco de referencia en partícular para registrar eventos.\"\n",
        "\n",
        "El termino especial hace referencia a restringido o limitado, debido a que nos basamos en sistemas inerciales para realiazar observaciones por observadores inerciales.\n"
      ],
      "metadata": {
        "id": "zI9U6aIAfSc6"
      }
    },
    {
      "cell_type": "markdown",
      "source": [
        "# 1.1.2 Los postulados de la relatividad especial\n",
        "\n",
        "**Primer postulado de la relatividad especial**\n",
        "\"Las leyes de la fisica pueden ser escritas de la misma manera en todo marco inercial\"\n",
        "\n",
        "**Segundo postulado de la relatividad especial**\n",
        "\"La velocidad de la luz en el vacio tiene el mismo valor constante $c=3\\times 10^8ms^{-1}$, en todo marco inercial\""
      ],
      "metadata": {
        "id": "VeGijtAOtzPh"
      }
    },
    {
      "cell_type": "markdown",
      "source": [
        "# 1.2 Transformación de coordenadas\n",
        "\n",
        "La relatividad especial trabaja a partir de dos obsevadores inerciales, en movimiento relativamente uniforme y sus observaciones fundamentales serán el tiempo y el espacio coordenado de los eventos.\n",
        "\n",
        "Consideraremos dos observadores inerciales $O$ y $O'$, los cuales tendrán sus respectivos marcos de referencia $S$ y $S'$ con las siguientes configuraciones:\n",
        "\n",
        "\n",
        "*   El origen de $S'$ se mueve a lo largo del eje $x$ del marco $S$ en dirección de donde aumentan los valores de $x$ con velocidad constante $V$\n",
        "*   Los ejes $x,y,z$ del marco $S$ son siempre paralaelos los ejes correspondientes del sistema $S'$\n",
        "*   El evento donde el origen de ambos marcos coincide es en el tiempo $t=0$ y $t'=0$\n",
        "\n",
        "Los observadores no estarán de acuerdo con los registros tomados en cada sistema de referencia, sin embargo al estar en sistemas bien definidos, se pueden usar ecuaciones para relaccioanr las coordenadas de cada observador en terminos del otro. A este conjunto de ecuaciones se les llama transformación de coordenadas.\n",
        "\n",
        "\n",
        "\n",
        "\n"
      ],
      "metadata": {
        "id": "6cYCjbvBGN5W"
      }
    },
    {
      "cell_type": "markdown",
      "source": [
        "# 1.2.1 Transformaciones galileanas\n",
        "\n",
        "Las transformaciones galileanas se basa en el siguiente conjunto de ecuaciones:\n",
        "\n",
        "\n",
        "\n",
        "\n",
        "*   $t'=t$\n",
        "*   $x'=x-Vt$\n",
        "*   $y'=y$\n",
        "*   $z'=z$\n",
        "\n",
        "Donde $V=|V|$ es la velocidad relativa de $S'$ respecto a $S$.\n",
        "\n",
        "Einstein destaca que la transformación Galileana contiene suposiciones sobre el comportamiento del espacio-tiempo que pueden no ser correctas. Por ejemplo asumir el tiempo como absoluto, asumiendo un intervalo de tiempo entre dos eventos siendo el mismo para todos los observadores.\n"
      ],
      "metadata": {
        "id": "FjBFm36DKXJ8"
      }
    },
    {
      "cell_type": "markdown",
      "source": [
        "# 1.2.2 Transformaciones de Lorentz\n",
        "En lugar de utilizar la intuición y correr el riesgo de cometer errores, Einstein usa sus dos postulados para deducir una transformación de coordenadas apropiada entre $S$ y $S'$. Las derivaciones obtenidas ya habían sido deducidas por Lorentz, sin embargo en este caso se tuvo otra interpretación para las mismas.\n",
        "\n",
        "\n",
        "*   $t'=\\frac{t-Vx/c^2}{\\sqrt{1-V^2/c^2}}$\n",
        "\n",
        "*   $x'=\\frac{x-Vt}{\\sqrt{1-V^2/c^2}}$\n",
        "*   $y'=y$\n",
        "\n",
        "\n",
        "*   $z'=z$\n",
        "\n",
        "Estas transformaciones a diferencia de las Galileanas, indican una mezcla de espacio y tiempo al tener una dependecia de $t$ y $x$ tanto para $t'$ como para $x'$.\n",
        "\n",
        "Esto indicaría que los observadores no estarían de acuerdo con el tiempo de los eventos a pesar de estar de acuerdo con el tiempo en el origen y de la misma manera, se difieren por un factor $\\gamma$\n",
        "\n",
        "*   $t'=\\gamma(V) (t-Vx/c^2)$\n",
        "\n",
        "*   $x'=\\gamma(V) (x-Vt)$\n",
        "*   $y'=y$\n",
        "\n",
        "\n",
        "*   $z'=z$\n",
        "\n",
        "Donde $\\gamma(V)=\\frac{1}{\\sqrt{1-V^2/c^2}}$\n",
        "\n",
        "Las transformaciones de Lorentz, pueden escribirse de diferentes maneras, normalmente se presentan en matrices\n",
        "\n",
        "\\begin{equation}\n",
        "\\begin{pmatrix}\n",
        "ct'\\\\\n",
        "x'\\\\\n",
        "y'\\\\\n",
        "z'\\\\\n",
        "\\end{pmatrix}\n",
        "=\n",
        "\\begin{pmatrix}\n",
        "\\gamma(V) & -\\gamma(V)V/c & 0 & 0\\\\\n",
        "-\\gamma(V)V/c & \\gamma(V) & 0 & 0\\\\\n",
        "0 & 0 & 1 & 0\\\\\n",
        "0 & 0 & 0 & 1\n",
        "\\end{pmatrix}\n",
        "\\begin{pmatrix}\n",
        "ct\\\\\n",
        "x\\\\\n",
        "y\\\\\n",
        "z\\\\\n",
        "\\end{pmatrix}\n",
        "\\end{equation}\n",
        "\n",
        "También se puede representar usando la ecuación $$[x'^\\mu]=[\\Lambda^\\mu _\\nu][x^\\nu]$$\n",
        "\n",
        "Donde la componente $[x^\\mu]$, representa los vectores columna para las coordenadas y el símbolo $\\Lambda$, sería la matriz de transformación de Lorentz.\n",
        "\n",
        "*ecuacion#\n",
        "\n",
        "Otra forma de representar las transformaciones es usando sumatorias:\n",
        "\n",
        "$$x'^\\mu=\\sum_{\\nu=0}^{3}\\Lambda^\\mu_\\nu x^\\nu$$\n",
        "\n",
        "También podemos tener transformaciones inversas, donde queremos transformar del sistema $S'$ al sistema $S$ y podemos hacerlo con las siguientes transformaciones:\n",
        "\n",
        "* $t =\\gamma(V)(t'+Vx'/c^2)$\n",
        "*$x=\\gamma(V)(x'+Vt')$\n",
        "*$y=y'$\n",
        "*$z=z'$\n",
        "\n",
        "Podemos notar que la unica diferencia entre la transformacción directa y la inversa es que las variables primadas y las no primadas intercambiaron posiciones y que la velocidad cambia su signo."
      ],
      "metadata": {
        "id": "ogM0nW6BT6t8"
      }
    },
    {
      "cell_type": "markdown",
      "source": [
        "# 1.2.3 Una derivación para las transformaciones de Lorentz\n",
        "\n"
      ],
      "metadata": {
        "id": "FAX2H137RrSy"
      }
    },
    {
      "cell_type": "markdown",
      "source": [
        "# 1.2.4 Intervalos y sus reglas de transformación\n",
        "\n",
        "**Intervalo**: Un intervalo entre dos eventos, registrados a lo largo de un eje especifico y dado un sistema de referencia, es la diferencia en la coordenada correspondiente de los dos eventos.\n",
        "\n",
        "Para desarrolar las reglas de transformación entre intervalos, se consideraran dos eventos con sus respectivas coordenadas. Luego substraemos las coordenadas de ambos eventos de la siguiente manera:\n",
        "\n",
        "*$\\Delta t'=\\gamma(V)(\\Delta t-V\\Delta x/c^2)$\n",
        "*$\\Delta x'=\\gamma(V)(\\Delta x-V\\Delta t)$\n",
        "*$\\Delta y' = \\Delta y$\n",
        "*$\\Delta z' = \\Delta z$\n",
        "\n",
        "Donde $\\Delta t$ corresponde a $t_2-t_1$ y de la misma manera para las demás coordenadas.\n",
        "\n",
        "Esta operación se puede aplicar de la misma manera para una transformación inversa.\n",
        "\n",
        "*$\\Delta t=\\gamma(V)(\\Delta t'+V\\Delta x'/c^2)$\n",
        "*$\\Delta x=\\gamma(V)(\\Delta x'+V\\Delta t')$\n",
        "*$\\Delta y = \\Delta y'$\n",
        "*$\\Delta z = \\Delta z'$\n",
        "\n",
        "Estas reglas de transformación para intervalos son utiles debido a que solo dependen de la diferencia de las coordenadas y no de una ubicación especifica para eventos en espacio o tiempo."
      ],
      "metadata": {
        "id": "18un16QQR9Fz"
      }
    },
    {
      "cell_type": "code",
      "execution_count": null,
      "metadata": {
        "id": "0zZEdROiNUj0"
      },
      "outputs": [],
      "source": []
    }
  ]
}